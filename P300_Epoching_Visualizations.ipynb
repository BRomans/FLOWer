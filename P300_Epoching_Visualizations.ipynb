{
 "nbformat": 4,
 "nbformat_minor": 0,
 "metadata": {
  "colab": {
   "provenance": [
    {
     "file_id": "16GYxxbjbhnSP1EPBJ1Qoj21Op1a85JaU",
     "timestamp": 1682156507463
    }
   ]
  },
  "kernelspec": {
   "name": "python3",
   "display_name": "Python 3"
  },
  "language_info": {
   "name": "python"
  }
 },
 "cells": [
  {
   "cell_type": "code",
   "execution_count": null,
   "metadata": {
    "colab": {
     "base_uri": "https://localhost:8080/"
    },
    "id": "yOz1fpJwUCoU",
    "executionInfo": {
     "status": "ok",
     "timestamp": 1682177384288,
     "user_tz": -120,
     "elapsed": 14014,
     "user": {
      "displayName": "Marco Casari",
      "userId": "04776802259694096161"
     }
    },
    "outputId": "827e5c27-f3d5-4e22-e7ed-cbb58406eaac"
   },
   "outputs": [],
   "source": [
    "!pip install mne"
   ]
  },
  {
   "cell_type": "code",
   "source": [
    "import scipy.io as spio\n",
    "import pandas as pd\n",
    "import numpy as np\n",
    "import os\n",
    "import matplotlib.pyplot as plt\n",
    "from mne.io import RawArray\n",
    "from mne import create_info\n",
    "from mne.channels import make_standard_montage\n",
    "\n",
    "path_data = 'MyDrive/Colab Notebooks/data/'\n",
    "path_mount = '/content/drive/'"
   ],
   "metadata": {
    "id": "QD1hYblqUPlq",
    "executionInfo": {
     "status": "ok",
     "timestamp": 1682177471730,
     "user_tz": -120,
     "elapsed": 2923,
     "user": {
      "displayName": "Marco Casari",
      "userId": "04776802259694096161"
     }
    }
   },
   "execution_count": null,
   "outputs": []
  },
  {
   "cell_type": "code",
   "source": [
    "from google.colab import drive\n",
    "drive.mount(path_mount)"
   ],
   "metadata": {
    "colab": {
     "base_uri": "https://localhost:8080/"
    },
    "id": "yD_YWdbJUTS4",
    "executionInfo": {
     "status": "ok",
     "timestamp": 1682177490526,
     "user_tz": -120,
     "elapsed": 16569,
     "user": {
      "displayName": "Marco Casari",
      "userId": "04776802259694096161"
     }
    },
    "outputId": "7703ec7a-021c-4751-8f38-d81fc958c516"
   },
   "execution_count": null,
   "outputs": []
  },
  {
   "cell_type": "code",
   "source": [
    "subjects = [\"S1\", \"S2\", \"S3\", \"S4\", \"S5\"]\n",
    "unicorn_channels = [\"Fz\", \"C3\", \"Cz\", \"C4\", \"Pz\", \"PO7\", \"Oz\", \"PO8\"]\n",
    "\n",
    "df = pd.read_json(\"/content/drive/MyDrive/Colab Notebooks/data/json/S5.json\")\n",
    "trigger = np.array(df.trigger)\n",
    "\n",
    "eeg = df[unicorn_channels].to_numpy()\n",
    "chs = unicorn_channels\n",
    "fs = df['sampling_rate'].values[0]\n"
   ],
   "metadata": {
    "id": "VavBXHaTWJej",
    "executionInfo": {
     "status": "error",
     "timestamp": 1682177495480,
     "user_tz": -120,
     "elapsed": 1948,
     "user": {
      "displayName": "Marco Casari",
      "userId": "04776802259694096161"
     }
    },
    "colab": {
     "base_uri": "https://localhost:8080/",
     "height": 380
    },
    "outputId": "0a1e135f-ea85-43bd-ec97-cbaa7c03e1a0"
   },
   "execution_count": null,
   "outputs": []
  },
  {
   "cell_type": "code",
   "source": [
    "from google.colab import drive\n",
    "drive.mount('/content/drive')"
   ],
   "metadata": {
    "id": "V8OWdV2dl-Pf"
   },
   "execution_count": null,
   "outputs": []
  },
  {
   "cell_type": "code",
   "source": [
    "thisRec = RawArray(eeg.T/1e7, create_info(chs, fs, ch_types='eeg'))\n",
    "\n",
    "# Get event indexes where value is not 0, i.e. -1 or 1\n",
    "pos = np.nonzero(trigger)[0]\n",
    "\n",
    "# Filter 0 values from the trigger array\n",
    "y = trigger[trigger != 0]\n",
    "print(pos, y)\n",
    "\n",
    "# Create the stimuli channel \n",
    "stim_data = np.zeros((1,thisRec.n_times))\n",
    "\n",
    "# MNE works with absolute values of labels so -1 and +1 would result in only one kind of event\n",
    "# that's why we add 2 and obtain 1 and 3 as label values\n",
    "stim_data[0,pos] = y + 2 \n",
    "print('stim_data = ', stim_data)\n",
    "stim_raw = RawArray(stim_data, create_info(['STI'], thisRec.info['sfreq'], ch_types=['stim']))\n",
    "print('stim_raw = ', stim_raw)\n",
    "# adding the stimuli channel (as a Raw object) to our EEG Raw object\n",
    "thisRec.add_channels([stim_raw])\n",
    "\n",
    "# Set the standard 10-20 montage\n",
    "montage = make_standard_montage('standard_1020')\n",
    "thisRec.set_montage(montage)\n",
    "\n",
    "thisRec.plot()"
   ],
   "metadata": {
    "colab": {
     "base_uri": "https://localhost:8080/",
     "height": 1000
    },
    "id": "mQtfaMEibbWp",
    "executionInfo": {
     "status": "ok",
     "timestamp": 1682164980003,
     "user_tz": -120,
     "elapsed": 9991,
     "user": {
      "displayName": "Michele Romani",
      "userId": "00623855769086536676"
     }
    },
    "outputId": "8df8a566-a9c4-44dd-f7b8-0a3b3c64488b"
   },
   "execution_count": null,
   "outputs": []
  },
  {
   "cell_type": "code",
   "source": [
    "# Compute PSD \n",
    "\n",
    "Pxx = thisRec.compute_psd()\n",
    "Pxx.plot()"
   ],
   "metadata": {
    "colab": {
     "base_uri": "https://localhost:8080/",
     "height": 369
    },
    "id": "3xxOBk0KY79c",
    "executionInfo": {
     "status": "ok",
     "timestamp": 1682164980681,
     "user_tz": -120,
     "elapsed": 687,
     "user": {
      "displayName": "Michele Romani",
      "userId": "00623855769086536676"
     }
    },
    "outputId": "71078686-af15-4fa0-dc75-8e879f349ff9"
   },
   "execution_count": null,
   "outputs": []
  },
  {
   "cell_type": "code",
   "source": [
    "filtered = thisRec.copy() # the method filters the signal in-place, so this time I \n",
    "                      # want to preserve the orignial signal and filter just a \n",
    "                      # temporary copy of it\n",
    "\n",
    "# Apply band-pass filtering\n",
    "filtered.filter(1,30) # easy huh?!\n",
    "\n",
    "pxx_filt = filtered.compute_psd()\n",
    "pxx_filt.plot()"
   ],
   "metadata": {
    "colab": {
     "base_uri": "https://localhost:8080/",
     "height": 716
    },
    "id": "AkrqShxWdb4b",
    "executionInfo": {
     "status": "ok",
     "timestamp": 1682164981507,
     "user_tz": -120,
     "elapsed": 844,
     "user": {
      "displayName": "Michele Romani",
      "userId": "00623855769086536676"
     }
    },
    "outputId": "72b1cafe-f8ff-4d1f-bc1b-4094506160cf"
   },
   "execution_count": null,
   "outputs": []
  },
  {
   "cell_type": "code",
   "source": [
    "from mne import find_events\n",
    "\n",
    "\n",
    "# extracting events from the stimuli channel and giving thema a class name with the dict ev_ids\n",
    "evs = find_events(thisRec, stim_channel='STI')\n",
    "ev_ids = {'NT': 1, 'T': 3}\n",
    "\n",
    "# Easily visualize events along the signal plot\n",
    "thisRec.plot(events = evs, event_id = ev_ids, event_color ={1:'g',3:'r'}, color = 'Gray',\n",
    "             block = True, clipping=None, scalings=50e-6)"
   ],
   "metadata": {
    "colab": {
     "base_uri": "https://localhost:8080/",
     "height": 1000
    },
    "id": "IRl2NOUHeC9g",
    "executionInfo": {
     "status": "ok",
     "timestamp": 1682164983186,
     "user_tz": -120,
     "elapsed": 1686,
     "user": {
      "displayName": "Michele Romani",
      "userId": "00623855769086536676"
     }
    },
    "outputId": "571e4be9-5bfa-4edc-e69d-c6fd915ef77d"
   },
   "execution_count": null,
   "outputs": []
  },
  {
   "cell_type": "code",
   "source": [
    "\n",
    "# creating the Epochs object combining EEG data and events info\n",
    "from mne import Epochs\n",
    "eps = Epochs(thisRec, evs, event_id=ev_ids, \n",
    "             tmin=-.6, tmax=0.8, baseline=(-.6,-.1)) \n",
    "            # This last parameters define the time window extracted as single epoch relatively to\n",
    "            # the single event, 'baseline' is the timespan from which the data for the baseline \n",
    "            # correction is extracted.\n",
    "            # In this case the epoch starts at the event and ends 2.5 s after, and the baseline \n",
    "            # corresponds to the first 0.5 s of the epoch\n",
    "\n",
    "eps.plot(block=True)#, scalings=100e-6) # .plot() method for Epoch objects has not clipping parameter"
   ],
   "metadata": {
    "colab": {
     "base_uri": "https://localhost:8080/",
     "height": 1000
    },
    "id": "pJSIk5_5cb5J",
    "executionInfo": {
     "status": "ok",
     "timestamp": 1682165016724,
     "user_tz": -120,
     "elapsed": 33547,
     "user": {
      "displayName": "Michele Romani",
      "userId": "00623855769086536676"
     }
    },
    "outputId": "665122f3-eeb4-4810-e07f-4e84597d458a"
   },
   "execution_count": null,
   "outputs": []
  },
  {
   "cell_type": "code",
   "source": [
    "epochs_target = eps[\"T\"]\n",
    "epochs_target.plot()"
   ],
   "metadata": {
    "colab": {
     "base_uri": "https://localhost:8080/",
     "height": 1000
    },
    "id": "lvaVGZ3rhk03",
    "executionInfo": {
     "status": "ok",
     "timestamp": 1682165109828,
     "user_tz": -120,
     "elapsed": 16434,
     "user": {
      "displayName": "Michele Romani",
      "userId": "00623855769086536676"
     }
    },
    "outputId": "ca11615e-bfbf-465f-a0fe-7c173c691358"
   },
   "execution_count": null,
   "outputs": []
  },
  {
   "cell_type": "code",
   "source": [
    "from mne.time_frequency import tfr_morlet\n",
    "\n",
    "freqs = np.logspace(*np.log10([6, 35]), num=8)\n",
    "\n",
    "# create a time-frequency representation using Morlet wavelets\n",
    "tfr, itc = tfr_morlet(epochs_target, freqs, n_cycles=5, average=True, return_itc=True)\n",
    "\n",
    "# Apply baseline correction using mean power in the time range of interest\n",
    "baseline=(-.6,-.1)\n",
    "tfr.apply_baseline(baseline, mode='mean')\n",
    "\n",
    "\n",
    "for channel in unicorn_channels:  \n",
    "  tfr.plot(mode='logratio', picks=channel, fmin=2, fmax=30, cmap='viridis', title=channel)"
   ],
   "metadata": {
    "colab": {
     "base_uri": "https://localhost:8080/",
     "height": 1000
    },
    "id": "WJbCgCUUjR1K",
    "executionInfo": {
     "status": "ok",
     "timestamp": 1682165117660,
     "user_tz": -120,
     "elapsed": 7839,
     "user": {
      "displayName": "Michele Romani",
      "userId": "00623855769086536676"
     }
    },
    "outputId": "71a651b3-9c1f-472b-db83-b135fee98161"
   },
   "execution_count": null,
   "outputs": []
  },
  {
   "cell_type": "code",
   "source": [
    "# Compute the grand average ERP waveform across all target epochs\n",
    "evoked = epochs_target.average()\n",
    "#evoked.add_channels(chs)\n",
    "# Plot the ERP waveform at Pz and Cz electrodes\n",
    "evoked.plot(spatial_colors=True, picks=\"eeg\", ylim=dict(eeg=[-10, 10]))"
   ],
   "metadata": {
    "colab": {
     "base_uri": "https://localhost:8080/",
     "height": 679
    },
    "id": "U66nas-lnEqY",
    "executionInfo": {
     "status": "ok",
     "timestamp": 1682165059223,
     "user_tz": -120,
     "elapsed": 1912,
     "user": {
      "displayName": "Michele Romani",
      "userId": "00623855769086536676"
     }
    },
    "outputId": "4153dae9-4ab1-4bee-ad36-cb46396fab14"
   },
   "execution_count": null,
   "outputs": []
  },
  {
   "cell_type": "code",
   "source": [
    "epo_spectrum = epochs_target.compute_psd()\n",
    "psds, freqs = epo_spectrum.get_data(return_freqs=True)\n",
    "print(f'\\nPSDs shape: {psds.shape}, freqs shape: {freqs.shape}')\n",
    "epo_spectrum"
   ],
   "metadata": {
    "colab": {
     "base_uri": "https://localhost:8080/",
     "height": 277
    },
    "id": "-OG1OYROr7Ji",
    "executionInfo": {
     "status": "ok",
     "timestamp": 1682165061199,
     "user_tz": -120,
     "elapsed": 1980,
     "user": {
      "displayName": "Michele Romani",
      "userId": "00623855769086536676"
     }
    },
    "outputId": "ff019590-0df3-4bd8-f8fb-abd47aaf2c00"
   },
   "execution_count": null,
   "outputs": []
  },
  {
   "cell_type": "code",
   "source": [
    "evoked = epochs_target.average()\n",
    "evk_spectrum = evoked.compute_psd()\n",
    "evk_spectrum.plot_topomap(ch_type='eeg', agg_fun=np.median)"
   ],
   "metadata": {
    "colab": {
     "base_uri": "https://localhost:8080/",
     "height": 290
    },
    "id": "lOBDNpwjsIve",
    "executionInfo": {
     "status": "ok",
     "timestamp": 1682165064437,
     "user_tz": -120,
     "elapsed": 3248,
     "user": {
      "displayName": "Michele Romani",
      "userId": "00623855769086536676"
     }
    },
    "outputId": "b944e671-2a22-49df-9ae7-d22e33ee05af"
   },
   "execution_count": null,
   "outputs": []
  }
 ]
}
