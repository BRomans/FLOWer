{
 "nbformat": 4,
 "nbformat_minor": 0,
 "metadata": {
  "colab": {
   "provenance": []
  },
  "kernelspec": {
   "name": "python3",
   "display_name": "Python 3"
  },
  "language_info": {
   "name": "python"
  }
 },
 "cells": [
  {
   "cell_type": "code",
   "execution_count": null,
   "metadata": {
    "id": "hDj1oL0pGFGu",
    "executionInfo": {
     "status": "ok",
     "timestamp": 1682162635316,
     "user_tz": -120,
     "elapsed": 860,
     "user": {
      "displayName": "Michele Romani",
      "userId": "00623855769086536676"
     }
    }
   },
   "outputs": [],
   "source": [
    "import scipy.io\n",
    "import pandas as pd\n",
    "import numpy as np\n",
    "import os\n",
    "\n",
    "\n",
    "path = '/content/drive/MyDrive/Colab Notebooks/data'\n",
    "subjects = [\"S1\", \"S2\", \"S3\", \"S4\", \"S5\"]\n",
    "unicorn_channels = [\"Fz\", \"C3\", \"Cz\", \"C4\", \"Pz\", \"PO7\", \"Oz\", \"PO8\"]"
   ]
  },
  {
   "cell_type": "code",
   "source": [
    "from google.colab import drive\n",
    "drive.mount('/content/drive')"
   ],
   "metadata": {
    "colab": {
     "base_uri": "https://localhost:8080/"
    },
    "id": "N5hmL-FN9X1o",
    "executionInfo": {
     "status": "ok",
     "timestamp": 1682162662752,
     "user_tz": -120,
     "elapsed": 20986,
     "user": {
      "displayName": "Michele Romani",
      "userId": "00623855769086536676"
     }
    },
    "outputId": "356bf8bc-f8db-43de-9cbc-7448e50a85dd"
   },
   "execution_count": null,
   "outputs": []
  },
  {
   "cell_type": "markdown",
   "source": [
    "#### Data conversion\n",
    "Converting all .mat files to Pandas DataFrames in .json"
   ],
   "metadata": {
    "id": "ItxZ0_FJPtvl"
   }
  },
  {
   "cell_type": "code",
   "source": [
    "for subj in subjects:\n",
    "  file_path = os.path.join(path, subj)\n",
    "  data = scipy.io.loadmat(file_path  + \".mat\")\n",
    "\n",
    "  df = pd.DataFrame(data=data[\"y\"], columns=unicorn_channels)\n",
    "  df[\"trigger\"] = data[\"trig\"]\n",
    "  df[\"sampling_rate\"] = data[\"fs\"][0][0]\n",
    "  new_path = os.path.join(path, \"json\", subj)\n",
    "  df.to_json(new_path + \".json\")"
   ],
   "metadata": {
    "id": "mnf187dcPr61",
    "executionInfo": {
     "status": "ok",
     "timestamp": 1682162743689,
     "user_tz": -120,
     "elapsed": 6160,
     "user": {
      "displayName": "Michele Romani",
      "userId": "00623855769086536676"
     }
    }
   },
   "execution_count": null,
   "outputs": []
  },
  {
   "cell_type": "markdown",
   "source": [
    "Load one dataset to check the format"
   ],
   "metadata": {
    "id": "C0xgD7kVQnEc"
   }
  },
  {
   "cell_type": "code",
   "source": [
    "df = pd.read_json(\"/content/drive/MyDrive/Colab Notebooks/data/json/S2.json\")\n",
    "trigger = np.array(df.trigger)\n",
    "print(np.nonzero(trigger), len(np.nonzero(trigger)[0]))"
   ],
   "metadata": {
    "colab": {
     "base_uri": "https://localhost:8080/"
    },
    "id": "jjW3bgRnQru9",
    "executionInfo": {
     "status": "ok",
     "timestamp": 1682162746282,
     "user_tz": -120,
     "elapsed": 1313,
     "user": {
      "displayName": "Michele Romani",
      "userId": "00623855769086536676"
     }
    },
    "outputId": "668099d0-4b9a-4e3f-f2d2-8f77b66128ff"
   },
   "execution_count": null,
   "outputs": []
  },
  {
   "cell_type": "markdown",
   "source": [
    "Visualize trigger data"
   ],
   "metadata": {
    "id": "6bZdUdaufaLi"
   }
  },
  {
   "cell_type": "code",
   "source": [
    "import matplotlib.pyplot as plt\n",
    "plt.rcParams[\"figure.figsize\"] = (20,5)\n",
    "\n",
    "\n",
    "target = np.where(trigger == 1)[0] \n",
    "not_target = np.where(trigger == -1)[0]\n",
    "print(len(target), len(not_target))\n",
    "plt.plot(trigger, 'x')"
   ],
   "metadata": {
    "colab": {
     "base_uri": "https://localhost:8080/",
     "height": 353
    },
    "id": "hcOWAfZnfb0C",
    "executionInfo": {
     "status": "ok",
     "timestamp": 1682152029430,
     "user_tz": -120,
     "elapsed": 965,
     "user": {
      "displayName": "Matteo Gallo",
      "userId": "14529792970066184071"
     }
    },
    "outputId": "15e2e833-41ef-4d08-a16e-faa364ff455f"
   },
   "execution_count": null,
   "outputs": []
  },
  {
   "cell_type": "code",
   "source": [
    "# Setup empty dictionary with all the channels\n",
    "all_data = {\n",
    "    \"subject\": [],\n",
    "    \"Fz\": [],\n",
    "    \"C3\": [],\n",
    "    \"Cz\": [],\n",
    "    \"C4\": [],\n",
    "    \"Pz\": [],\n",
    "    \"PO7\": [],\n",
    "    \"Oz\": [],\n",
    "    \"PO8\": [],\n",
    "    \"trigger\": [],\n",
    "    \"sampling_rate\": []\n",
    "}\n",
    "for subj in subjects:\n",
    "  file_path = os.path.join(path, subj)\n",
    "  data = scipy.io.loadmat(file_path  + \".mat\")\n",
    "  eeg_data = data[\"y\"]\n",
    "\n",
    "  # Transpose the data for each channel into a single array\n",
    "  for i in range(len(unicorn_channels)):\n",
    "    all_data[unicorn_channels[i]].append(eeg_data[:, i])\n",
    "\n",
    "\n",
    "  # Flatten trigger data to obtain a clean array\n",
    "  trigger = data[\"trig\"].flatten()\n",
    "  \n",
    "  # Check index of trigger events and amount of datapoints\n",
    "  print(np.nonzero(trigger), len(np.nonzero(trigger)[0]))\n",
    "\n",
    "  # Append remaining metadata\n",
    "  all_data[\"subject\"].append(subj)\n",
    "  all_data[\"trigger\"].append(trigger)\n",
    "  all_data[\"sampling_rate\"].append(int(data[\"fs\"][0][0]))\n",
    "\n",
    "# Convert dict to df then save\n",
    "df = pd.DataFrame(all_data)\n",
    "new_path = os.path.join(path, \"json\", \"p300\")\n",
    "\n",
    "# Load df from json to test\n",
    "df.to_json(new_path + \".json\")\n",
    "df = pd.read_json(new_path + \".json\")\n",
    "df"
   ],
   "metadata": {
    "colab": {
     "base_uri": "https://localhost:8080/",
     "height": 790
    },
    "id": "8w3-P9jPR27A",
    "executionInfo": {
     "status": "ok",
     "timestamp": 1682162765753,
     "user_tz": -120,
     "elapsed": 3298,
     "user": {
      "displayName": "Michele Romani",
      "userId": "00623855769086536676"
     }
    },
    "outputId": "0ef893eb-167b-43e8-e578-4829fbf63027"
   },
   "execution_count": null,
   "outputs": []
  }
 ]
}
