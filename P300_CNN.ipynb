{
 "nbformat": 4,
 "nbformat_minor": 0,
 "metadata": {
  "colab": {
   "provenance": [
    {
     "file_id": "1ZZId9Z5ZdtfETsPGsJ3FTgsYNY4xPBQ4",
     "timestamp": 1682243818656
    }
   ]
  },
  "kernelspec": {
   "name": "python3",
   "display_name": "Python 3"
  },
  "language_info": {
   "name": "python"
  },
  "accelerator": "GPU",
  "gpuClass": "standard",
  "widgets": {
   "application/vnd.jupyter.widget-state+json": {
    "b752b98d43334759b0de732ac4668c8f": {
     "model_module": "@jupyter-widgets/controls",
     "model_name": "HBoxModel",
     "model_module_version": "1.5.0",
     "state": {
      "_dom_classes": [],
      "_model_module": "@jupyter-widgets/controls",
      "_model_module_version": "1.5.0",
      "_model_name": "HBoxModel",
      "_view_count": null,
      "_view_module": "@jupyter-widgets/controls",
      "_view_module_version": "1.5.0",
      "_view_name": "HBoxView",
      "box_style": "",
      "children": [
       "IPY_MODEL_cb6e6798ee744fc78dbab7b4ad698876",
       "IPY_MODEL_c51eb3db6ffb482ea9727614b8137695",
       "IPY_MODEL_cb70ac20232943a4bbc136fb9a9ad960"
      ],
      "layout": "IPY_MODEL_2e2075f7fa3c4764994133c8672d010d"
     }
    },
    "cb6e6798ee744fc78dbab7b4ad698876": {
     "model_module": "@jupyter-widgets/controls",
     "model_name": "HTMLModel",
     "model_module_version": "1.5.0",
     "state": {
      "_dom_classes": [],
      "_model_module": "@jupyter-widgets/controls",
      "_model_module_version": "1.5.0",
      "_model_name": "HTMLModel",
      "_view_count": null,
      "_view_module": "@jupyter-widgets/controls",
      "_view_module_version": "1.5.0",
      "_view_name": "HTMLView",
      "description": "",
      "description_tooltip": null,
      "layout": "IPY_MODEL_412262b5a7c04b0fb216b1240a32eb31",
      "placeholder": "​",
      "style": "IPY_MODEL_d3d259e97fe34d648f6ab5d07ee326fd",
      "value": "100%"
     }
    },
    "c51eb3db6ffb482ea9727614b8137695": {
     "model_module": "@jupyter-widgets/controls",
     "model_name": "FloatProgressModel",
     "model_module_version": "1.5.0",
     "state": {
      "_dom_classes": [],
      "_model_module": "@jupyter-widgets/controls",
      "_model_module_version": "1.5.0",
      "_model_name": "FloatProgressModel",
      "_view_count": null,
      "_view_module": "@jupyter-widgets/controls",
      "_view_module_version": "1.5.0",
      "_view_name": "ProgressView",
      "bar_style": "success",
      "description": "",
      "description_tooltip": null,
      "layout": "IPY_MODEL_8932d25cad85437cae3429d1132593e0",
      "max": 100,
      "min": 0,
      "orientation": "horizontal",
      "style": "IPY_MODEL_9a17fdcd03d64f6a9de6bf9cf83906a3",
      "value": 100
     }
    },
    "cb70ac20232943a4bbc136fb9a9ad960": {
     "model_module": "@jupyter-widgets/controls",
     "model_name": "HTMLModel",
     "model_module_version": "1.5.0",
     "state": {
      "_dom_classes": [],
      "_model_module": "@jupyter-widgets/controls",
      "_model_module_version": "1.5.0",
      "_model_name": "HTMLModel",
      "_view_count": null,
      "_view_module": "@jupyter-widgets/controls",
      "_view_module_version": "1.5.0",
      "_view_name": "HTMLView",
      "description": "",
      "description_tooltip": null,
      "layout": "IPY_MODEL_18e5e2338e7d418086f1d7903615bb94",
      "placeholder": "​",
      "style": "IPY_MODEL_45ba56a675824be384eb88ad40253510",
      "value": " 100/100 [00:57&lt;00:00,  2.37it/s]"
     }
    },
    "2e2075f7fa3c4764994133c8672d010d": {
     "model_module": "@jupyter-widgets/base",
     "model_name": "LayoutModel",
     "model_module_version": "1.2.0",
     "state": {
      "_model_module": "@jupyter-widgets/base",
      "_model_module_version": "1.2.0",
      "_model_name": "LayoutModel",
      "_view_count": null,
      "_view_module": "@jupyter-widgets/base",
      "_view_module_version": "1.2.0",
      "_view_name": "LayoutView",
      "align_content": null,
      "align_items": null,
      "align_self": null,
      "border": null,
      "bottom": null,
      "display": null,
      "flex": null,
      "flex_flow": null,
      "grid_area": null,
      "grid_auto_columns": null,
      "grid_auto_flow": null,
      "grid_auto_rows": null,
      "grid_column": null,
      "grid_gap": null,
      "grid_row": null,
      "grid_template_areas": null,
      "grid_template_columns": null,
      "grid_template_rows": null,
      "height": null,
      "justify_content": null,
      "justify_items": null,
      "left": null,
      "margin": null,
      "max_height": null,
      "max_width": null,
      "min_height": null,
      "min_width": null,
      "object_fit": null,
      "object_position": null,
      "order": null,
      "overflow": null,
      "overflow_x": null,
      "overflow_y": null,
      "padding": null,
      "right": null,
      "top": null,
      "visibility": null,
      "width": null
     }
    },
    "412262b5a7c04b0fb216b1240a32eb31": {
     "model_module": "@jupyter-widgets/base",
     "model_name": "LayoutModel",
     "model_module_version": "1.2.0",
     "state": {
      "_model_module": "@jupyter-widgets/base",
      "_model_module_version": "1.2.0",
      "_model_name": "LayoutModel",
      "_view_count": null,
      "_view_module": "@jupyter-widgets/base",
      "_view_module_version": "1.2.0",
      "_view_name": "LayoutView",
      "align_content": null,
      "align_items": null,
      "align_self": null,
      "border": null,
      "bottom": null,
      "display": null,
      "flex": null,
      "flex_flow": null,
      "grid_area": null,
      "grid_auto_columns": null,
      "grid_auto_flow": null,
      "grid_auto_rows": null,
      "grid_column": null,
      "grid_gap": null,
      "grid_row": null,
      "grid_template_areas": null,
      "grid_template_columns": null,
      "grid_template_rows": null,
      "height": null,
      "justify_content": null,
      "justify_items": null,
      "left": null,
      "margin": null,
      "max_height": null,
      "max_width": null,
      "min_height": null,
      "min_width": null,
      "object_fit": null,
      "object_position": null,
      "order": null,
      "overflow": null,
      "overflow_x": null,
      "overflow_y": null,
      "padding": null,
      "right": null,
      "top": null,
      "visibility": null,
      "width": null
     }
    },
    "d3d259e97fe34d648f6ab5d07ee326fd": {
     "model_module": "@jupyter-widgets/controls",
     "model_name": "DescriptionStyleModel",
     "model_module_version": "1.5.0",
     "state": {
      "_model_module": "@jupyter-widgets/controls",
      "_model_module_version": "1.5.0",
      "_model_name": "DescriptionStyleModel",
      "_view_count": null,
      "_view_module": "@jupyter-widgets/base",
      "_view_module_version": "1.2.0",
      "_view_name": "StyleView",
      "description_width": ""
     }
    },
    "8932d25cad85437cae3429d1132593e0": {
     "model_module": "@jupyter-widgets/base",
     "model_name": "LayoutModel",
     "model_module_version": "1.2.0",
     "state": {
      "_model_module": "@jupyter-widgets/base",
      "_model_module_version": "1.2.0",
      "_model_name": "LayoutModel",
      "_view_count": null,
      "_view_module": "@jupyter-widgets/base",
      "_view_module_version": "1.2.0",
      "_view_name": "LayoutView",
      "align_content": null,
      "align_items": null,
      "align_self": null,
      "border": null,
      "bottom": null,
      "display": null,
      "flex": null,
      "flex_flow": null,
      "grid_area": null,
      "grid_auto_columns": null,
      "grid_auto_flow": null,
      "grid_auto_rows": null,
      "grid_column": null,
      "grid_gap": null,
      "grid_row": null,
      "grid_template_areas": null,
      "grid_template_columns": null,
      "grid_template_rows": null,
      "height": null,
      "justify_content": null,
      "justify_items": null,
      "left": null,
      "margin": null,
      "max_height": null,
      "max_width": null,
      "min_height": null,
      "min_width": null,
      "object_fit": null,
      "object_position": null,
      "order": null,
      "overflow": null,
      "overflow_x": null,
      "overflow_y": null,
      "padding": null,
      "right": null,
      "top": null,
      "visibility": null,
      "width": null
     }
    },
    "9a17fdcd03d64f6a9de6bf9cf83906a3": {
     "model_module": "@jupyter-widgets/controls",
     "model_name": "ProgressStyleModel",
     "model_module_version": "1.5.0",
     "state": {
      "_model_module": "@jupyter-widgets/controls",
      "_model_module_version": "1.5.0",
      "_model_name": "ProgressStyleModel",
      "_view_count": null,
      "_view_module": "@jupyter-widgets/base",
      "_view_module_version": "1.2.0",
      "_view_name": "StyleView",
      "bar_color": null,
      "description_width": ""
     }
    },
    "18e5e2338e7d418086f1d7903615bb94": {
     "model_module": "@jupyter-widgets/base",
     "model_name": "LayoutModel",
     "model_module_version": "1.2.0",
     "state": {
      "_model_module": "@jupyter-widgets/base",
      "_model_module_version": "1.2.0",
      "_model_name": "LayoutModel",
      "_view_count": null,
      "_view_module": "@jupyter-widgets/base",
      "_view_module_version": "1.2.0",
      "_view_name": "LayoutView",
      "align_content": null,
      "align_items": null,
      "align_self": null,
      "border": null,
      "bottom": null,
      "display": null,
      "flex": null,
      "flex_flow": null,
      "grid_area": null,
      "grid_auto_columns": null,
      "grid_auto_flow": null,
      "grid_auto_rows": null,
      "grid_column": null,
      "grid_gap": null,
      "grid_row": null,
      "grid_template_areas": null,
      "grid_template_columns": null,
      "grid_template_rows": null,
      "height": null,
      "justify_content": null,
      "justify_items": null,
      "left": null,
      "margin": null,
      "max_height": null,
      "max_width": null,
      "min_height": null,
      "min_width": null,
      "object_fit": null,
      "object_position": null,
      "order": null,
      "overflow": null,
      "overflow_x": null,
      "overflow_y": null,
      "padding": null,
      "right": null,
      "top": null,
      "visibility": null,
      "width": null
     }
    },
    "45ba56a675824be384eb88ad40253510": {
     "model_module": "@jupyter-widgets/controls",
     "model_name": "DescriptionStyleModel",
     "model_module_version": "1.5.0",
     "state": {
      "_model_module": "@jupyter-widgets/controls",
      "_model_module_version": "1.5.0",
      "_model_name": "DescriptionStyleModel",
      "_view_count": null,
      "_view_module": "@jupyter-widgets/base",
      "_view_module_version": "1.2.0",
      "_view_name": "StyleView",
      "description_width": ""
     }
    }
   }
  }
 },
 "cells": [
  {
   "cell_type": "code",
   "execution_count": null,
   "metadata": {
    "id": "izfzutQwOG6E",
    "colab": {
     "base_uri": "https://localhost:8080/"
    },
    "executionInfo": {
     "status": "ok",
     "timestamp": 1682243281545,
     "user_tz": -120,
     "elapsed": 9609,
     "user": {
      "displayName": "Carola Maria Caivano",
      "userId": "01625777968997829192"
     }
    },
    "outputId": "b6008696-1b54-4ac0-f99f-ba94c328ee8b"
   },
   "outputs": [],
   "source": [
    "!pip install mne\n",
    "\n",
    "import scipy.io as spio\n",
    "import pandas as pd\n",
    "import numpy as np\n",
    "import os\n",
    "import json\n",
    "import matplotlib.pyplot as plt\n",
    "import mne\n",
    "from mne.io import RawArray\n",
    "from mne import create_info\n",
    "from mne.channels import make_standard_montage\n",
    "\n",
    "path_data = 'MyDrive/Colab Notebooks/preprocessedata'\n",
    "path_mount = '/content/drive/'"
   ]
  },
  {
   "cell_type": "code",
   "source": [
    "import torch\n",
    "from torch.utils.data import Dataset, random_split, DataLoader, TensorDataset, DataLoader\n",
    "import torchvision.models as models\n",
    "import torchvision.transforms as transforms\n",
    "from sklearn.metrics import f1_score\n",
    "import torch.nn.functional as F\n",
    "import torch.nn as nn\n",
    "from torchvision.utils import make_grid\n",
    "import torch.optim as optim"
   ],
   "metadata": {
    "id": "IXzWolF3dwuM"
   },
   "execution_count": null,
   "outputs": []
  },
  {
   "cell_type": "code",
   "source": [
    "from google.colab import drive\n",
    "drive.mount(path_mount)"
   ],
   "metadata": {
    "id": "-1t7Wzr2OYXX",
    "colab": {
     "base_uri": "https://localhost:8080/"
    },
    "executionInfo": {
     "status": "ok",
     "timestamp": 1682243283725,
     "user_tz": -120,
     "elapsed": 2185,
     "user": {
      "displayName": "Carola Maria Caivano",
      "userId": "01625777968997829192"
     }
    },
    "outputId": "865e06a2-2a24-472e-e935-2ee1c02278fa"
   },
   "execution_count": null,
   "outputs": []
  },
  {
   "cell_type": "markdown",
   "source": [
    "# Data loading"
   ],
   "metadata": {
    "id": "4gBoZRTDrI9c"
   }
  },
  {
   "cell_type": "code",
   "source": [
    "subjects = [\"S1\", \"S2\", \"S3\", \"S4\", \"S5\"]\n",
    "unicorn_channels = [\"Fz\", \"C3\", \"Cz\", \"C4\", \"Pz\", \"PO7\", \"Oz\", \"PO8\"]\n",
    "subject = \"S5\"\n",
    "\n",
    "data = mne.io.read_raw_fif(f'{path_mount}/{path_data}'+'/S1_eeg.fif')\n",
    "\n",
    "#sample_data_folder = mne.datasets.sample.data_path()\n",
    "#sample_data_raw_file = os.path.join(,'S1_eeg.fif')\n",
    "#raw = mne.io.read_raw_fif(sample_data_raw_file)\n",
    "\n",
    "\n",
    "#file_path = os.path.join(path_mount, path_data, \"json\", subject)\n",
    "#df = pd.read_json(file_path + \".json\")\n",
    "#trigger = np.array(df.trigger)\n",
    "\n",
    "#eeg = df[unicorn_channels].to_numpy()\n",
    "#chs = unicorn_channels\n",
    "#fs = df['sampling_rate'].values[0]"
   ],
   "metadata": {
    "id": "4_JhLDWcOV5Y",
    "colab": {
     "base_uri": "https://localhost:8080/"
    },
    "executionInfo": {
     "status": "ok",
     "timestamp": 1682243283726,
     "user_tz": -120,
     "elapsed": 15,
     "user": {
      "displayName": "Carola Maria Caivano",
      "userId": "01625777968997829192"
     }
    },
    "outputId": "4ec46c54-91dc-42b4-e841-b06d6b597631"
   },
   "execution_count": null,
   "outputs": []
  },
  {
   "cell_type": "code",
   "source": [
    "data.ch_names"
   ],
   "metadata": {
    "colab": {
     "base_uri": "https://localhost:8080/"
    },
    "id": "qT-tTaHyTKkz",
    "executionInfo": {
     "status": "ok",
     "timestamp": 1682243283726,
     "user_tz": -120,
     "elapsed": 10,
     "user": {
      "displayName": "Carola Maria Caivano",
      "userId": "01625777968997829192"
     }
    },
    "outputId": "9ea85432-0f76-41f2-dc78-54962dfad439"
   },
   "execution_count": null,
   "outputs": []
  },
  {
   "cell_type": "code",
   "source": [
    "from mne import find_events\n",
    "\n",
    "\n",
    "# extracting events from the stimuli channel and giving thema a class name with the dict ev_ids\n",
    "evs = find_events(data, stim_channel='STI')\n",
    "ev_ids = {'NT': 1, 'T': 3}\n",
    "\n",
    "# Easily visualize events along the signal plot\n",
    "data.plot(events = evs, event_id = ev_ids, event_color ={1:'g',3:'r'}, color = 'Gray',\n",
    "             block = True, clipping=None, scalings=50e-6)"
   ],
   "metadata": {
    "colab": {
     "base_uri": "https://localhost:8080/",
     "height": 1000
    },
    "id": "R9Jqgu-KU9n1",
    "executionInfo": {
     "status": "ok",
     "timestamp": 1682243285284,
     "user_tz": -120,
     "elapsed": 1565,
     "user": {
      "displayName": "Carola Maria Caivano",
      "userId": "01625777968997829192"
     }
    },
    "outputId": "6cdb6827-3677-4ce0-f10f-168eaf261b7b"
   },
   "execution_count": null,
   "outputs": []
  },
  {
   "cell_type": "code",
   "source": [
    "obj=  [\"Fz\", \"C3\", \"Cz\", \"C4\", \"Pz\", \"PO7\", \"Oz\", \"PO8\", \"STI\"]\n",
    "df= data[obj][0]"
   ],
   "metadata": {
    "id": "3o65Xh2hX8Sn"
   },
   "execution_count": null,
   "outputs": []
  },
  {
   "cell_type": "code",
   "source": [
    "from mne import Epochs\n",
    "eps = Epochs(data, evs, event_id=ev_ids, \n",
    "             tmin=-.6, tmax=0.8, baseline=(-.6,-.1)) "
   ],
   "metadata": {
    "colab": {
     "base_uri": "https://localhost:8080/"
    },
    "id": "19DCAoEkm6a8",
    "executionInfo": {
     "status": "ok",
     "timestamp": 1682243285286,
     "user_tz": -120,
     "elapsed": 12,
     "user": {
      "displayName": "Carola Maria Caivano",
      "userId": "01625777968997829192"
     }
    },
    "outputId": "37b15044-aad0-4e21-c59b-50275fb07558"
   },
   "execution_count": null,
   "outputs": []
  },
  {
   "cell_type": "code",
   "source": [
    "epochs_target = eps\n",
    "e = epochs_target.to_data_frame()\n",
    "e = e.drop(e[e['time'] < .2].index)\n",
    "e = e.drop(e[e['time'] > .65].index)\n",
    "\n",
    "e.loc[e['condition'] == 'NT', 'condition'] = 1\n",
    "e.loc[e['condition'] == 'T', 'condition'] = 0\n",
    "\n",
    "e['condition'] = e['condition'].astype(int)\n",
    "\n",
    "y= e['condition']\n",
    "y=y.values\n",
    "x = e.drop(['condition'], axis = 1)\n",
    "x=x.drop(['STI'],axis=1)\n",
    "x=x.drop(['time'],axis=1)\n",
    "n = 1200\n",
    "Y = []\n",
    "X = []\n",
    "for i in range(n):\n",
    "    X.append(x[x['epoch'] == i])\n",
    "    X[-1]=X[-1].drop(['epoch'], axis = 1)\n",
    "    X[-1]=X[-1].T\n",
    "    X[-1]=X[-1].values\n",
    "    X[-1]=[X[-1]]\n",
    "\n",
    "for i in range(n):\n",
    "    if y[113*i]==0:\n",
    "      Y.append(0)\n",
    "    if y[113*i]!=0:\n",
    "      Y.append(1)\n",
    "\n",
    "  "
   ],
   "metadata": {
    "colab": {
     "base_uri": "https://localhost:8080/"
    },
    "id": "zpyiQy0vi05O",
    "executionInfo": {
     "status": "ok",
     "timestamp": 1682243545902,
     "user_tz": -120,
     "elapsed": 5116,
     "user": {
      "displayName": "Carola Maria Caivano",
      "userId": "01625777968997829192"
     }
    },
    "outputId": "9936e5eb-039b-42ec-b718-d64d9579ff93"
   },
   "execution_count": null,
   "outputs": []
  },
  {
   "cell_type": "code",
   "source": [
    "dataframe=pd.DataFrame(df.T, columns=obj)\n",
    "dataframe"
   ],
   "metadata": {
    "id": "Bi3BnnV4VAby",
    "colab": {
     "base_uri": "https://localhost:8080/",
     "height": 423
    },
    "executionInfo": {
     "status": "ok",
     "timestamp": 1682243545903,
     "user_tz": -120,
     "elapsed": 21,
     "user": {
      "displayName": "Carola Maria Caivano",
      "userId": "01625777968997829192"
     }
    },
    "outputId": "c7394df9-563e-4ead-9085-476b18e5f01b"
   },
   "execution_count": null,
   "outputs": []
  },
  {
   "cell_type": "code",
   "source": [
    "eps.to_data_frame()"
   ],
   "metadata": {
    "id": "HU13iqcdbkMJ",
    "colab": {
     "base_uri": "https://localhost:8080/",
     "height": 441
    },
    "executionInfo": {
     "status": "ok",
     "timestamp": 1682243549821,
     "user_tz": -120,
     "elapsed": 3923,
     "user": {
      "displayName": "Carola Maria Caivano",
      "userId": "01625777968997829192"
     }
    },
    "outputId": "a9f613c9-bf1d-4096-f01f-2bb4df130035"
   },
   "execution_count": null,
   "outputs": []
  },
  {
   "cell_type": "markdown",
   "source": [
    "# CNN"
   ],
   "metadata": {
    "id": "fLCQBPNjrRZb"
   }
  },
  {
   "cell_type": "code",
   "source": [
    "class Flatten(nn.Module):\n",
    "    def forward(self, input):\n",
    "        return input.view(input.size(0), -1)\n",
    "\n",
    "class EEGNET(nn.Module):\n",
    "    def __init__(self):\n",
    "        super().__init__()\n",
    "        self.network = nn.Sequential(\n",
    "            nn.Conv2d(1, 32, kernel_size=3, padding=1),\n",
    "            nn.ReLU(),\n",
    "            nn.Conv2d(32, 64, kernel_size=3, stride=1, padding=1),\n",
    "            nn.ReLU(),\n",
    "            nn.MaxPool2d(2, 2), # output: 64 x 16 x 16\n",
    "\n",
    "            nn.Conv2d(64, 128, kernel_size=3, stride=1, padding=1),\n",
    "            nn.ReLU(),\n",
    "            nn.Conv2d(128, 128, kernel_size=3, stride=1, padding=1),\n",
    "            nn.ReLU(),\n",
    "            nn.MaxPool2d(2, 2), # output: 128 x 8 x 8\n",
    "\n",
    "            nn.Conv2d(128, 256, kernel_size=3, stride=1, padding=1),\n",
    "            nn.ReLU(),\n",
    "            nn.Conv2d(256, 256, kernel_size=3, stride=1, padding=1),\n",
    "            nn.ReLU(),\n",
    "            nn.MaxPool2d(2, 2), # output: 256 x 4 x 4\n",
    "\n",
    "            nn.Flatten(), \n",
    "            nn.Linear(3584, 1024),\n",
    "            nn.ReLU(),\n",
    "            nn.Linear(1024, 512),\n",
    "            nn.ReLU(),\n",
    "            nn.Linear(512, 10)\n",
    "            #nn.Linear(512,1)\n",
    "            #,nn.Tanh()\n",
    "            )\n",
    "        \n",
    "    def forward(self, xb):\n",
    "        return self.network(xb)"
   ],
   "metadata": {
    "id": "2JUxbUFDh_7Z"
   },
   "execution_count": null,
   "outputs": []
  },
  {
   "cell_type": "markdown",
   "source": [
    "### Training set e Test set\n"
   ],
   "metadata": {
    "id": "PkDXcHsurgk7"
   }
  },
  {
   "cell_type": "code",
   "source": [
    "torch.manual_seed(10)"
   ],
   "metadata": {
    "colab": {
     "base_uri": "https://localhost:8080/"
    },
    "id": "IOXEx_CxmfFU",
    "executionInfo": {
     "status": "ok",
     "timestamp": 1682243549822,
     "user_tz": -120,
     "elapsed": 18,
     "user": {
      "displayName": "Carola Maria Caivano",
      "userId": "01625777968997829192"
     }
    },
    "outputId": "100a6f41-498f-4325-ea28-f77b2d7802a2"
   },
   "execution_count": null,
   "outputs": []
  },
  {
   "cell_type": "code",
   "source": [
    "epochs=X\n",
    "iris = TensorDataset(torch.FloatTensor(X),torch.LongTensor(Y))"
   ],
   "metadata": {
    "id": "o8Ir2h5xpDMv"
   },
   "execution_count": null,
   "outputs": []
  },
  {
   "cell_type": "code",
   "source": [
    "val_pct = 0.2\n",
    "test_size = int(val_pct * len(epochs))\n",
    "train_size = len(epochs) - test_size"
   ],
   "metadata": {
    "id": "zh689jdzmfzm"
   },
   "execution_count": null,
   "outputs": []
  },
  {
   "cell_type": "code",
   "source": [
    "train_ds, test_ds = random_split(iris, [train_size, test_size])\n",
    "len(train_ds), len(test_ds)"
   ],
   "metadata": {
    "id": "I91tG-EYmwk0",
    "colab": {
     "base_uri": "https://localhost:8080/"
    },
    "executionInfo": {
     "status": "ok",
     "timestamp": 1682243550264,
     "user_tz": -120,
     "elapsed": 457,
     "user": {
      "displayName": "Carola Maria Caivano",
      "userId": "01625777968997829192"
     }
    },
    "outputId": "f792dfa5-d923-4c2b-ae19-cfa6cbb9d3a4"
   },
   "execution_count": null,
   "outputs": []
  },
  {
   "cell_type": "code",
   "source": [
    "batch_size=60\n",
    "train_loader = DataLoader(train_ds, batch_size, shuffle=True, num_workers=2, pin_memory=True)\n",
    "signal, labels = next(iter(train_loader))\n",
    "test_loader = DataLoader(test_ds, batch_size*2, num_workers=2, pin_memory=True)\n",
    "signal1, labels1 = next(iter(test_loader))\n",
    "classes=('0','1')"
   ],
   "metadata": {
    "id": "bOjsFjLwmJne"
   },
   "execution_count": null,
   "outputs": []
  },
  {
   "cell_type": "markdown",
   "source": [
    "# Using cuda"
   ],
   "metadata": {
    "id": "bv1-ZvTysbHr"
   }
  },
  {
   "cell_type": "code",
   "source": [
    "def get_default_device():\n",
    "    \"\"\"Pick GPU if available, else CPU\"\"\"\n",
    "    if torch.cuda.is_available():\n",
    "        return torch.device('cuda')\n",
    "    else:\n",
    "        return torch.device('cpu')\n",
    "    \n",
    "def to_device(data, device):\n",
    "    \"\"\"Move tensor(s) to chosen device\"\"\"\n",
    "    if isinstance(data, (list,tuple)):\n",
    "        return [to_device(x, device) for x in data]\n",
    "    return data.to(device, non_blocking=True)\n",
    "\n",
    "class DeviceDataLoader():\n",
    "    \"\"\"Wrap a dataloader to move data to a device\"\"\"\n",
    "    def __init__(self, dl, device):\n",
    "        self.dl = dl\n",
    "        self.device = device\n",
    "        \n",
    "    def __iter__(self):\n",
    "        \"\"\"Yield a batch of data after moving it to device\"\"\"\n",
    "        for b in self.dl: \n",
    "            yield to_device(b, self.device)\n",
    "\n",
    "    def __len__(self):\n",
    "        \"\"\"Number of batches\"\"\"\n",
    "        return len(self.dl)"
   ],
   "metadata": {
    "id": "J_DJ_RNFsebo"
   },
   "execution_count": null,
   "outputs": []
  },
  {
   "cell_type": "code",
   "source": [
    "device = get_default_device()\n",
    "device\n",
    "model= EEGNET()"
   ],
   "metadata": {
    "id": "U4TxzlWPsfcv"
   },
   "execution_count": null,
   "outputs": []
  },
  {
   "cell_type": "code",
   "source": [
    "train_loader = DeviceDataLoader(train_loader, device)\n",
    "test_loader = DeviceDataLoader(test_loader, device)\n",
    "to_device(model, device);"
   ],
   "metadata": {
    "id": "yo0FadkGsoKM"
   },
   "execution_count": null,
   "outputs": []
  },
  {
   "cell_type": "code",
   "source": [
    "if torch.cuda.is_available():\n",
    "  torch_device='cuda'\n",
    "else:\n",
    "  torch_device='cpu'"
   ],
   "metadata": {
    "id": "eLibB5KqNkz-"
   },
   "execution_count": null,
   "outputs": []
  },
  {
   "cell_type": "markdown",
   "source": [
    "# Training phase"
   ],
   "metadata": {
    "id": "0CEvV0c2rx0G"
   }
  },
  {
   "cell_type": "code",
   "source": [
    "from tqdm.notebook import tqdm"
   ],
   "metadata": {
    "id": "6lXMOPbqqZdH"
   },
   "execution_count": null,
   "outputs": []
  },
  {
   "cell_type": "code",
   "source": [
    "salva=[]\n",
    "def train(epoch,net,optimizer,criterion):\n",
    "    for epoch in tqdm(range(epoch)):  \n",
    "        train_loss = 0\n",
    "        correct_train = 0\n",
    "        total_train = 0\n",
    "        #count=0\n",
    "        for i, data in enumerate(train_loader, 0):\n",
    "            inputs, labels = data\n",
    "            optimizer.zero_grad()\n",
    "            outputs = net(inputs.to(torch_device))\n",
    "            #if count==0:\n",
    "             # print(np.shape(outputs),\"\\n\", outputs,\"\\n\",np.shape(labels), labels)\n",
    "             # count+=1\n",
    "            loss = criterion(outputs, labels.to(torch_device))\n",
    "            loss.backward()\n",
    "            optimizer.step()\n",
    "            train_loss += loss.item()\n",
    "            _, predicted_train = torch.max(outputs, 1)\n",
    "            total_train += labels.size(0)\n",
    "            correct_train += predicted_train.eq(labels.to(torch_device)).cpu().sum().item()\n",
    "\n",
    "        train_accuracy = 100 * correct_train / total_train\n",
    "        print('Epoch %d, train loss: %.3f, train accuracy: %.2f%%' %\n",
    "              (epoch + 1, train_loss / len(train_loader), train_accuracy))\n",
    "        \n",
    "    print('Finished Training')"
   ],
   "metadata": {
    "id": "PEqptdHmj6sV"
   },
   "execution_count": null,
   "outputs": []
  },
  {
   "cell_type": "code",
   "source": [
    "def evaluate_accuracy(model, dataloader):\n",
    "    correct = 0\n",
    "    total = 0\n",
    "    with torch.no_grad():\n",
    "        for data in dataloader:\n",
    "            images, labels = data\n",
    "            outputs = model(images.to(torch_device))\n",
    "            _, predicted = torch.max(outputs.data, 1)  \n",
    "            total += labels.size(0) \n",
    "            correct += (predicted == labels.to(torch_device)).sum().item() \n",
    "    accuracy = 100 * correct / total  \n",
    "    return accuracy\n",
    "\n",
    "def accuracy_classes(net,dataloader,classes): \n",
    "    correct_pred = {classname: 0 for classname in classes}\n",
    "    total_pred = {classname: 0 for classname in classes}\n",
    "    with torch.no_grad():\n",
    "        for data in dataloader:\n",
    "            images, labels = data\n",
    "            outputs = net(images.to(torch_device))\n",
    "            _, predictions = torch.max(outputs, 1)\n",
    "            for label, prediction in zip(labels.to(torch_device), predictions):\n",
    "                if label == prediction:\n",
    "                    correct_pred[classes[label]] += 1\n",
    "                total_pred[classes[label]] += 1\n",
    "\n",
    "    for classname, correct_count in correct_pred.items():\n",
    "        accuracy = 100 * float(correct_count) / total_pred[classname]\n",
    "        print(f'Accuracy for class: {classname:5s} is {accuracy:.1f} %')"
   ],
   "metadata": {
    "id": "kd6TrLtlkW55"
   },
   "execution_count": null,
   "outputs": []
  },
  {
   "cell_type": "code",
   "source": [
    "criterion = nn.CrossEntropyLoss(reduction='sum')\n",
    "#criterion=nn.MSELoss()\n",
    "optimizer = optim.Adam(model.parameters(), lr=0.001)\n",
    "epoch=100"
   ],
   "metadata": {
    "id": "ZsTVCGB2kpLE"
   },
   "execution_count": null,
   "outputs": []
  },
  {
   "cell_type": "code",
   "source": [
    "pip install torch-summary"
   ],
   "metadata": {
    "id": "RRWujlKq0DZb",
    "colab": {
     "base_uri": "https://localhost:8080/"
    },
    "executionInfo": {
     "status": "ok",
     "timestamp": 1682243557134,
     "user_tz": -120,
     "elapsed": 5932,
     "user": {
      "displayName": "Carola Maria Caivano",
      "userId": "01625777968997829192"
     }
    },
    "outputId": "c100318d-b122-4910-8adf-3043d5600c51"
   },
   "execution_count": null,
   "outputs": []
  },
  {
   "cell_type": "code",
   "source": [
    "from torchsummary import summary\n",
    "\n",
    "summary(model, input_size=(60,1, 8, 351))"
   ],
   "metadata": {
    "id": "MCGp2ctYzZP3",
    "colab": {
     "base_uri": "https://localhost:8080/"
    },
    "executionInfo": {
     "status": "ok",
     "timestamp": 1682243557135,
     "user_tz": -120,
     "elapsed": 15,
     "user": {
      "displayName": "Carola Maria Caivano",
      "userId": "01625777968997829192"
     }
    },
    "outputId": "76416275-1b25-4655-f018-f0b79b8ef8ac"
   },
   "execution_count": null,
   "outputs": []
  },
  {
   "cell_type": "code",
   "source": [
    "train(epoch,model,optimizer,criterion)"
   ],
   "metadata": {
    "id": "wzkrlnF1zDDk",
    "colab": {
     "base_uri": "https://localhost:8080/",
     "height": 1000,
     "referenced_widgets": [
      "b752b98d43334759b0de732ac4668c8f",
      "cb6e6798ee744fc78dbab7b4ad698876",
      "c51eb3db6ffb482ea9727614b8137695",
      "cb70ac20232943a4bbc136fb9a9ad960",
      "2e2075f7fa3c4764994133c8672d010d",
      "412262b5a7c04b0fb216b1240a32eb31",
      "d3d259e97fe34d648f6ab5d07ee326fd",
      "8932d25cad85437cae3429d1132593e0",
      "9a17fdcd03d64f6a9de6bf9cf83906a3",
      "18e5e2338e7d418086f1d7903615bb94",
      "45ba56a675824be384eb88ad40253510"
     ]
    },
    "executionInfo": {
     "status": "ok",
     "timestamp": 1682243613527,
     "user_tz": -120,
     "elapsed": 56401,
     "user": {
      "displayName": "Carola Maria Caivano",
      "userId": "01625777968997829192"
     }
    },
    "outputId": "b5b848d5-8c27-497d-8321-664f45a71a7d"
   },
   "execution_count": null,
   "outputs": []
  },
  {
   "cell_type": "code",
   "source": [
    "evaluate_accuracy(model, test_loader)"
   ],
   "metadata": {
    "id": "GeyLwBZB59Q0",
    "colab": {
     "base_uri": "https://localhost:8080/"
    },
    "executionInfo": {
     "status": "ok",
     "timestamp": 1682243613528,
     "user_tz": -120,
     "elapsed": 16,
     "user": {
      "displayName": "Carola Maria Caivano",
      "userId": "01625777968997829192"
     }
    },
    "outputId": "b5b82155-dd4c-41bc-ecbf-2fceb71d04cb"
   },
   "execution_count": null,
   "outputs": []
  },
  {
   "cell_type": "code",
   "source": [
    "y_true = to_device(labels1, device)\n",
    "\n",
    "for data in test_loader:\n",
    "    s1, l1 = data\n",
    "    outputs = model(s1.to(torch_device))\n",
    "    #print(outputs)\n",
    "    _, predictions = torch.max(outputs,1)\n",
    "    #print(predictions)\n",
    "    break\n",
    "\n",
    "#outputs = to_device(labels1,'cpu')\n",
    "#_, predicted = torch.max(outputs.data, 1) \n",
    "#pred=to_device(model(tree),'cpu')\n",
    "#print(predictions==y_true)\n",
    "#print(y_true)"
   ],
   "metadata": {
    "id": "q4tc6_kF7LQh",
    "colab": {
     "base_uri": "https://localhost:8080/"
    },
    "executionInfo": {
     "status": "ok",
     "timestamp": 1682243614063,
     "user_tz": -120,
     "elapsed": 549,
     "user": {
      "displayName": "Carola Maria Caivano",
      "userId": "01625777968997829192"
     }
    },
    "outputId": "723ae0e4-d548-45e1-aa4b-fd244d8bd669"
   },
   "execution_count": null,
   "outputs": []
  },
  {
   "cell_type": "code",
   "source": [
    "f1_score(y_true.cpu(),predictions.cpu())"
   ],
   "metadata": {
    "id": "yA5Leh7HPYxr",
    "colab": {
     "base_uri": "https://localhost:8080/"
    },
    "executionInfo": {
     "status": "ok",
     "timestamp": 1682243614064,
     "user_tz": -120,
     "elapsed": 10,
     "user": {
      "displayName": "Carola Maria Caivano",
      "userId": "01625777968997829192"
     }
    },
    "outputId": "ab750fe7-76c9-4527-8462-7ce0f6c8556f"
   },
   "execution_count": null,
   "outputs": []
  }
 ]
}
