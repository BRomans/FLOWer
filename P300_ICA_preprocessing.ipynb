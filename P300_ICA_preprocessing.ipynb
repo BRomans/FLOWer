{
 "nbformat": 4,
 "nbformat_minor": 0,
 "metadata": {
  "colab": {
   "provenance": [
    {
     "file_id": "16GYxxbjbhnSP1EPBJ1Qoj21Op1a85JaU",
     "timestamp": 1682156507463
    }
   ]
  },
  "kernelspec": {
   "name": "python3",
   "display_name": "Python 3"
  },
  "language_info": {
   "name": "python"
  }
 },
 "cells": [
  {
   "cell_type": "code",
   "execution_count": null,
   "metadata": {
    "colab": {
     "base_uri": "https://localhost:8080/"
    },
    "id": "yOz1fpJwUCoU",
    "executionInfo": {
     "status": "ok",
     "timestamp": 1682165658484,
     "user_tz": -120,
     "elapsed": 12960,
     "user": {
      "displayName": "Michele Romani",
      "userId": "00623855769086536676"
     }
    },
    "outputId": "90971749-c952-4bec-ee9a-75f66f213cfa"
   },
   "outputs": [],
   "source": [
    "!pip install mne"
   ]
  },
  {
   "cell_type": "code",
   "source": [
    "import scipy.io as spio\n",
    "import pandas as pd\n",
    "import numpy as np\n",
    "import os\n",
    "import json\n",
    "import matplotlib.pyplot as plt\n",
    "import mne\n",
    "from mne.io import RawArray\n",
    "from mne import create_info\n",
    "from mne.channels import make_standard_montage\n",
    "\n",
    "path_data = 'MyDrive/Colab Notebooks/data/'\n",
    "path_mount = '/content/drive/'"
   ],
   "metadata": {
    "id": "QD1hYblqUPlq",
    "executionInfo": {
     "status": "ok",
     "timestamp": 1682167240283,
     "user_tz": -120,
     "elapsed": 219,
     "user": {
      "displayName": "Michele Romani",
      "userId": "00623855769086536676"
     }
    }
   },
   "execution_count": null,
   "outputs": []
  },
  {
   "cell_type": "code",
   "source": [
    "from google.colab import drive\n",
    "drive.mount(path_mount)"
   ],
   "metadata": {
    "colab": {
     "base_uri": "https://localhost:8080/"
    },
    "id": "yD_YWdbJUTS4",
    "executionInfo": {
     "status": "ok",
     "timestamp": 1682165679926,
     "user_tz": -120,
     "elapsed": 3125,
     "user": {
      "displayName": "Michele Romani",
      "userId": "00623855769086536676"
     }
    },
    "outputId": "3fb3fa8e-1630-4f7e-96cd-022f93e2388b"
   },
   "execution_count": null,
   "outputs": []
  },
  {
   "cell_type": "code",
   "source": [
    "subjects = [\"S1\", \"S2\", \"S3\", \"S4\", \"S5\"]\n",
    "unicorn_channels = [\"Fz\", \"C3\", \"Cz\", \"C4\", \"Pz\", \"PO7\", \"Oz\", \"PO8\"]\n",
    "subject = \"S1\"\n",
    "file_path = os.path.join(path_mount, path_data, \"json\", subject)\n",
    "df = pd.read_json(file_path + \".json\")\n",
    "trigger = np.array(df.trigger)\n",
    "\n",
    "eeg = df[unicorn_channels].to_numpy()\n",
    "chs = unicorn_channels\n",
    "fs = df['sampling_rate'].values[0]\n"
   ],
   "metadata": {
    "id": "VavBXHaTWJej",
    "executionInfo": {
     "status": "ok",
     "timestamp": 1682177691279,
     "user_tz": -120,
     "elapsed": 4191,
     "user": {
      "displayName": "Michele Romani",
      "userId": "00623855769086536676"
     }
    }
   },
   "execution_count": null,
   "outputs": []
  },
  {
   "cell_type": "code",
   "source": [
    "thisRec = RawArray(eeg.T/1e7, create_info(chs, fs, ch_types='eeg'))\n",
    "\n",
    "# Get event indexes where value is not 0, i.e. -1 or 1\n",
    "pos = np.where(trigger != 0)[0]\n",
    "\n",
    "print(len(trigger))\n",
    "# Filter 0 values from the trigger array\n",
    "y = trigger[trigger != 0]\n",
    "print(pos, len(pos), y, len(y))\n",
    "\n",
    "# Create the stimuli channel \n",
    "stim_data = np.zeros((1,thisRec.n_times))\n",
    "\n",
    "# MNE works with absolute values of labels so -1 and +1 would result in only one kind of event\n",
    "# that's why we add 2 and obtain 1 and 3 as label values\n",
    "stim_data[0,pos] = y + 2 \n",
    "ones = stim_data[stim_data == 1]\n",
    "threes = stim_data[stim_data == 3]\n",
    "print(\"Ones\", ones, len(ones))\n",
    "print(\"Threes\", threes, len(threes))\n",
    "print('stim_data = ', stim_data)\n",
    "stim_raw = RawArray(stim_data, create_info(['STI'], thisRec.info['sfreq'], ch_types=['stim']))\n",
    "print('stim_raw = ', stim_raw)\n",
    "# adding the stimuli channel (as a Raw object) to our EEG Raw object\n",
    "thisRec.add_channels([stim_raw])\n",
    "\n",
    "# Set the standard 10-20 montage\n",
    "montage = make_standard_montage('standard_1020')\n",
    "thisRec.set_montage(montage)\n",
    "\n",
    "thisRec.plot()"
   ],
   "metadata": {
    "colab": {
     "base_uri": "https://localhost:8080/",
     "height": 1000
    },
    "id": "mQtfaMEibbWp",
    "executionInfo": {
     "status": "ok",
     "timestamp": 1682178076616,
     "user_tz": -120,
     "elapsed": 1922,
     "user": {
      "displayName": "Michele Romani",
      "userId": "00623855769086536676"
     }
    },
    "outputId": "1e2680b8-d5fd-473d-ac54-e55922daf440"
   },
   "execution_count": null,
   "outputs": []
  },
  {
   "cell_type": "code",
   "source": [
    "# Preprocessing with ICA\n",
    "from mne.preprocessing import (ICA, corrmap)\n",
    "\n",
    "filt_raw = thisRec.copy().filter(l_freq=1., h_freq=None)\n",
    "ica = ICA(n_components=6, max_iter='auto', random_state=1024)\n",
    "ica.fit(filt_raw)\n",
    "ica.plot_sources(thisRec, show_scrollbars=False)"
   ],
   "metadata": {
    "colab": {
     "base_uri": "https://localhost:8080/",
     "height": 1000
    },
    "id": "6SMP5Pbn46rL",
    "executionInfo": {
     "status": "ok",
     "timestamp": 1682178202359,
     "user_tz": -120,
     "elapsed": 2401,
     "user": {
      "displayName": "Michele Romani",
      "userId": "00623855769086536676"
     }
    },
    "outputId": "903cf422-2199-403a-f3ae-352033442aa8"
   },
   "execution_count": null,
   "outputs": []
  },
  {
   "cell_type": "code",
   "source": [
    "ica.plot_components()"
   ],
   "metadata": {
    "colab": {
     "base_uri": "https://localhost:8080/",
     "height": 508
    },
    "id": "P2-OblKK5iMC",
    "executionInfo": {
     "status": "ok",
     "timestamp": 1682178210769,
     "user_tz": -120,
     "elapsed": 3909,
     "user": {
      "displayName": "Michele Romani",
      "userId": "00623855769086536676"
     }
    },
    "outputId": "e75cb326-f843-4a51-c002-3aa66c6e5f2e"
   },
   "execution_count": null,
   "outputs": []
  },
  {
   "cell_type": "code",
   "source": [
    "ica.plot_overlay(thisRec, exclude=[0], picks='eeg')"
   ],
   "metadata": {
    "colab": {
     "base_uri": "https://localhost:8080/",
     "height": 1000
    },
    "id": "Q26myzg8506M",
    "executionInfo": {
     "status": "ok",
     "timestamp": 1682178228054,
     "user_tz": -120,
     "elapsed": 2180,
     "user": {
      "displayName": "Michele Romani",
      "userId": "00623855769086536676"
     }
    },
    "outputId": "4c8034f1-f43d-4f4d-9648-0e64ebb71d73"
   },
   "execution_count": null,
   "outputs": []
  },
  {
   "cell_type": "code",
   "source": [
    "ica.exclude = []  # indices chosen based on various plots above"
   ],
   "metadata": {
    "id": "ISdmyiKh6KCo",
    "executionInfo": {
     "status": "ok",
     "timestamp": 1682178232663,
     "user_tz": -120,
     "elapsed": 307,
     "user": {
      "displayName": "Michele Romani",
      "userId": "00623855769086536676"
     }
    }
   },
   "execution_count": null,
   "outputs": []
  },
  {
   "cell_type": "code",
   "source": [
    "# ica.apply() changes the Raw object in-place, so let's make a copy first:\n",
    "reconst_raw = thisRec.copy()\n",
    "ica.apply(reconst_raw)\n",
    "\n",
    "thisRec.plot(n_channels=len(unicorn_channels),\n",
    "         show_scrollbars=False)\n",
    "reconst_raw.plot(n_channels=len(unicorn_channels),\n",
    "                 show_scrollbars=False)\n",
    "\n",
    "\n",
    "file_path = os.path.join(path_mount, path_data,\"preprocessed\", subject + '_eeg') + '.fif'\n"
   ],
   "metadata": {
    "colab": {
     "base_uri": "https://localhost:8080/",
     "height": 1000
    },
    "id": "qHKXsODA6g_O",
    "executionInfo": {
     "status": "ok",
     "timestamp": 1682178236902,
     "user_tz": -120,
     "elapsed": 1793,
     "user": {
      "displayName": "Michele Romani",
      "userId": "00623855769086536676"
     }
    },
    "outputId": "36104219-5526-41af-c509-8a00371d8be8"
   },
   "execution_count": null,
   "outputs": []
  },
  {
   "cell_type": "code",
   "source": [
    "filtered = reconst_raw.copy() # the method filters the signal in-place, so this time I \n",
    "                      # want to preserve the orignial signal and filter just a \n",
    "                      # temporary copy of it\n",
    "\n",
    "# Apply band-pass filtering\n",
    "filtered.filter(1,30) # easy huh?!\n",
    "\n",
    "# Save preprocessed data\n",
    "filtered.save(file_path, fmt='double', overwrite=True)\n",
    "\n",
    "pxx_filt = filtered.compute_psd()\n",
    "pxx_filt.plot()"
   ],
   "metadata": {
    "colab": {
     "base_uri": "https://localhost:8080/",
     "height": 786
    },
    "id": "AkrqShxWdb4b",
    "executionInfo": {
     "status": "ok",
     "timestamp": 1682178241999,
     "user_tz": -120,
     "elapsed": 1351,
     "user": {
      "displayName": "Michele Romani",
      "userId": "00623855769086536676"
     }
    },
    "outputId": "9544a2a2-3423-41fb-8395-c0b893c6f780"
   },
   "execution_count": null,
   "outputs": []
  },
  {
   "cell_type": "code",
   "source": [
    "from mne import find_events\n",
    "\n",
    "\n",
    "# extracting events from the stimuli channel and giving thema a class name with the dict ev_ids\n",
    "evs = find_events(filtered, stim_channel='STI')\n",
    "ev_ids = {'NT': 1, 'T': 3}\n",
    "\n",
    "# Easily visualize events along the signal plot\n",
    "filtered.plot(events = evs, event_id = ev_ids, event_color ={1:'g',3:'r'}, color = 'Gray',\n",
    "             block = True, clipping=None, scalings=50e-6)"
   ],
   "metadata": {
    "colab": {
     "base_uri": "https://localhost:8080/",
     "height": 1000
    },
    "id": "IRl2NOUHeC9g",
    "executionInfo": {
     "status": "ok",
     "timestamp": 1682178254049,
     "user_tz": -120,
     "elapsed": 1932,
     "user": {
      "displayName": "Michele Romani",
      "userId": "00623855769086536676"
     }
    },
    "outputId": "b8080b69-4e2d-4190-f936-fc6cebd9cc96"
   },
   "execution_count": null,
   "outputs": []
  },
  {
   "cell_type": "code",
   "source": [
    "\n",
    "# creating the Epochs object combining EEG data and events info\n",
    "from mne import Epochs\n",
    "eps = Epochs(filtered, evs, event_id=ev_ids, \n",
    "             tmin=-.6, tmax=0.8, baseline=(-.6,-.1)) \n",
    "            # This last parameters define the time window extracted as single epoch relatively to\n",
    "            # the single event, 'baseline' is the timespan from which the data for the baseline \n",
    "            # correction is extracted.\n",
    "            # In this case the epoch starts at the event and ends 2.5 s after, and the baseline \n",
    "            # corresponds to the first 0.5 s of the epoch\n",
    "\n",
    "eps.plot(block=True) # .plot() method for Epoch objects has not clipping parameter"
   ],
   "metadata": {
    "colab": {
     "base_uri": "https://localhost:8080/",
     "height": 1000
    },
    "id": "pJSIk5_5cb5J",
    "executionInfo": {
     "status": "ok",
     "timestamp": 1682178311509,
     "user_tz": -120,
     "elapsed": 46448,
     "user": {
      "displayName": "Michele Romani",
      "userId": "00623855769086536676"
     }
    },
    "outputId": "99d11e1d-bf3e-4979-dbb4-70ad47d0b2af"
   },
   "execution_count": null,
   "outputs": []
  },
  {
   "cell_type": "code",
   "source": [
    "epochs_target = eps[\"T\"]\n",
    "e = epochs_target.to_data_frame()\n",
    "e = e[e[\"STI\"] == \"NT\"]\n",
    "#epochs_target.plot()\n",
    "e"
   ],
   "metadata": {
    "colab": {
     "base_uri": "https://localhost:8080/",
     "height": 67
    },
    "id": "lvaVGZ3rhk03",
    "executionInfo": {
     "status": "ok",
     "timestamp": 1682178665226,
     "user_tz": -120,
     "elapsed": 434,
     "user": {
      "displayName": "Michele Romani",
      "userId": "00623855769086536676"
     }
    },
    "outputId": "e9a17e49-7868-4688-d6cf-505ee496879c"
   },
   "execution_count": null,
   "outputs": []
  },
  {
   "cell_type": "code",
   "source": [
    "from mne.time_frequency import tfr_morlet\n",
    "\n",
    "freqs = np.logspace(*np.log10([6, 35]), num=8)\n",
    "\n",
    "# create a time-frequency representation using Morlet wavelets\n",
    "tfr, itc = tfr_morlet(epochs_target, freqs, n_cycles=5, average=True, return_itc=True)\n",
    "\n",
    "# Apply baseline correction using mean power in the time range of interest\n",
    "baseline=(-.6,-.1)\n",
    "tfr.apply_baseline(baseline, mode='mean')\n",
    "\n",
    "\n",
    "for channel in unicorn_channels:  \n",
    "  tfr.plot(mode='logratio', picks=channel, fmin=2, fmax=30, cmap='viridis', title=channel)"
   ],
   "metadata": {
    "colab": {
     "base_uri": "https://localhost:8080/",
     "height": 1000
    },
    "id": "WJbCgCUUjR1K",
    "executionInfo": {
     "status": "ok",
     "timestamp": 1682170378147,
     "user_tz": -120,
     "elapsed": 4758,
     "user": {
      "displayName": "Michele Romani",
      "userId": "00623855769086536676"
     }
    },
    "outputId": "a77837be-e4c3-45b9-ba65-2c940f8a7275"
   },
   "execution_count": null,
   "outputs": []
  },
  {
   "cell_type": "code",
   "source": [
    "# Compute the grand average ERP waveform across all target epochs\n",
    "evoked = epochs_target.average()\n",
    "#evoked.add_channels(chs)\n",
    "# Plot the ERP waveform at Pz and Cz electrodes\n",
    "evoked.plot(spatial_colors=True, picks=\"eeg\", ylim=dict(eeg=[-10, 10]))"
   ],
   "metadata": {
    "colab": {
     "base_uri": "https://localhost:8080/",
     "height": 679
    },
    "id": "U66nas-lnEqY",
    "executionInfo": {
     "status": "ok",
     "timestamp": 1682170378775,
     "user_tz": -120,
     "elapsed": 641,
     "user": {
      "displayName": "Michele Romani",
      "userId": "00623855769086536676"
     }
    },
    "outputId": "e955f04f-e7bb-49a7-fec9-9b0e75d1b1ae"
   },
   "execution_count": null,
   "outputs": []
  },
  {
   "cell_type": "code",
   "source": [
    "epo_spectrum = epochs_target.compute_psd()\n",
    "psds, freqs = epo_spectrum.get_data(return_freqs=True)\n",
    "print(f'\\nPSDs shape: {psds.shape}, freqs shape: {freqs.shape}')\n",
    "epo_spectrum"
   ],
   "metadata": {
    "colab": {
     "base_uri": "https://localhost:8080/",
     "height": 277
    },
    "id": "-OG1OYROr7Ji",
    "executionInfo": {
     "status": "ok",
     "timestamp": 1682170379166,
     "user_tz": -120,
     "elapsed": 399,
     "user": {
      "displayName": "Michele Romani",
      "userId": "00623855769086536676"
     }
    },
    "outputId": "5c5d98e8-82d2-42ca-addc-6b7eceb992a8"
   },
   "execution_count": null,
   "outputs": []
  },
  {
   "cell_type": "code",
   "source": [
    "evoked = epochs_target.average()\n",
    "evk_spectrum = evoked.compute_psd()\n",
    "evk_spectrum.plot_topomap(ch_type='eeg', agg_fun=np.median)"
   ],
   "metadata": {
    "colab": {
     "base_uri": "https://localhost:8080/",
     "height": 290
    },
    "id": "lOBDNpwjsIve",
    "executionInfo": {
     "status": "ok",
     "timestamp": 1682170381768,
     "user_tz": -120,
     "elapsed": 2624,
     "user": {
      "displayName": "Michele Romani",
      "userId": "00623855769086536676"
     }
    },
    "outputId": "cdfb169f-1d41-40c3-f131-aef6d1aa4b32"
   },
   "execution_count": null,
   "outputs": []
  }
 ]
}
